{
 "cells": [
  {
   "cell_type": "code",
   "execution_count": 1,
   "metadata": {
    "cocalc": {
     "outputs": {
      "0": {
       "name": "input",
       "opts": {
        "password": false,
        "prompt": "Enter message to encrypt: "
       },
       "output_type": "stream",
       "value": "AaAaAa"
      },
      "1": {
       "name": "input",
       "opts": {
        "password": false,
        "prompt": "Enter key (number of positions to shift): "
       },
       "output_type": "stream",
       "value": "2"
      }
     }
    },
    "collapsed": false
   },
   "outputs": [
    {
     "name": "stdout",
     "output_type": "stream",
     "text": "Enter message to encrypt:  AaAaAa"
    },
    {
     "name": "stdout",
     "output_type": "stream",
     "text": "Enter key (number of positions to shift):  2"
    },
    {
     "name": "stdout",
     "output_type": "stream",
     "text": [
      "Encrypted message: CcCcCc\n"
     ]
    }
   ],
   "source": [
    "message = input('Enter message to encrypt: ')\n",
    "key = int(input('Enter key (number of positions to shift): '))\n",
    "\n",
    "# ASCII Lower case and Upper case starting and ending decimal numbers\n",
    "UpperStart = 65\n",
    "UpperEnd = 90\n",
    "LowerStart = 97\n",
    "LowerEnd = 122\n",
    "\n",
    "encrypted_message = \"\"\n",
    "\n",
    "for char in message:\n",
    "    if char.isupper():\n",
    "        newChar = (ord(char) - UpperStart + key) % 26 + UpperStart\n",
    "        encrypted_message += chr(newChar)\n",
    "    elif char.islower():\n",
    "        newChar = (ord(char) - LowerStart + key) % 26 + LowerStart\n",
    "        encrypted_message += chr(newChar)\n",
    "    else: # If character is not a letter, it is not shifted\n",
    "        encrypted_message += char\n",
    "\n",
    "print(f\"Encrypted message: {encrypted_message}\")\n"
   ]
  },
  {
   "cell_type": "code",
   "execution_count": 0,
   "metadata": {
    "collapsed": false
   },
   "outputs": [
   ],
   "source": [
   ]
  }
 ],
 "metadata": {
  "kernelspec": {
   "display_name": "Python 3 (system-wide)",
   "env": {
   },
   "language": "python",
   "metadata": {
    "cocalc": {
     "description": "Python 3 programming language",
     "priority": 100,
     "url": "https://www.python.org/"
    }
   },
   "name": "python3",
   "resource_dir": "/ext/jupyter/kernels/python3"
  },
  "language_info": {
   "codemirror_mode": {
    "name": "ipython",
    "version": 3
   },
   "file_extension": ".py",
   "mimetype": "text/x-python",
   "name": "python",
   "nbconvert_exporter": "python",
   "pygments_lexer": "ipython3",
   "version": "3.8.10"
  }
 },
 "nbformat": 4,
 "nbformat_minor": 4
}